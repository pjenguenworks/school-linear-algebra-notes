{
 "cells": [
  {
   "cell_type": "code",
   "execution_count": 1,
   "metadata": {},
   "outputs": [],
   "source": [
    "using LinearAlgebra\n",
    "using RowEchelon\n",
    "using InvertedIndices"
   ]
  },
  {
   "cell_type": "code",
   "execution_count": 2,
   "metadata": {},
   "outputs": [
    {
     "data": {
      "text/plain": [
       "3×4 Matrix{Float64}:\n",
       " 1.0  0.0  0.0   1.0\n",
       " 0.0  1.0  0.0   2.0\n",
       " 0.0  0.0  1.0  -1.0"
      ]
     },
     "metadata": {},
     "output_type": "display_data"
    }
   ],
   "source": [
    "A = [\n",
    "    2 2 7 -1 ; \n",
    "    2 1 2 2 ;\n",
    "    4 6 1 15 ;\n",
    "]\n",
    "rref(A)"
   ]
  },
  {
   "cell_type": "code",
   "execution_count": 3,
   "metadata": {},
   "outputs": [
    {
     "data": {
      "text/plain": [
       "3×1 Matrix{Float64}:\n",
       "  1.0\n",
       "  2.0\n",
       " -1.0"
      ]
     },
     "metadata": {},
     "output_type": "display_data"
    }
   ],
   "source": [
    "B = [\n",
    "    2 2 7;\n",
    "    2 1 2;\n",
    "    4 6 1;\n",
    "]\n",
    "C = [\n",
    "    -1 2 15\n",
    "]'\n",
    "B \\ C"
   ]
  },
  {
   "cell_type": "code",
   "execution_count": 4,
   "metadata": {},
   "outputs": [
    {
     "data": {
      "text/plain": [
       "3×4 Matrix{Float64}:\n",
       " 1.0  0.0  0.0   1.0\n",
       " 0.0  1.0  0.0   2.0\n",
       " 0.0  0.0  1.0  -1.0"
      ]
     },
     "metadata": {},
     "output_type": "display_data"
    }
   ],
   "source": [
    "rref([B C])"
   ]
  },
  {
   "cell_type": "code",
   "execution_count": 5,
   "metadata": {},
   "outputs": [
    {
     "data": {
      "text/plain": [
       "3×1 Matrix{Float64}:\n",
       " -2.9999999999999996\n",
       " -4.333333333333333\n",
       " -0.3333333333333333"
      ]
     },
     "metadata": {},
     "output_type": "display_data"
    }
   ],
   "source": [
    "# Dependent System\n",
    "D = [\n",
    "    3 -4 4;\n",
    "    1 -1 -2;\n",
    "    2 -3 6\n",
    "]\n",
    "\n",
    "E = [ 7 2 5]'\n",
    "\n",
    "D \\ E"
   ]
  },
  {
   "cell_type": "code",
   "execution_count": 6,
   "metadata": {},
   "outputs": [
    {
     "data": {
      "text/plain": [
       "3×4 Matrix{Float64}:\n",
       " 1.0  0.0  0.0  5.5\n",
       " 0.0  1.0  0.0  2.75\n",
       " 0.0  0.0  1.0  0.375"
      ]
     },
     "metadata": {},
     "output_type": "display_data"
    }
   ],
   "source": [
    "rref([D E])"
   ]
  },
  {
   "cell_type": "code",
   "execution_count": 7,
   "metadata": {},
   "outputs": [
    {
     "data": {
      "text/plain": [
       "LinearAlgebra.QRCompactWY{Float64, Matrix{Float64}, Matrix{Float64}}\n",
       "Q factor:\n",
       "3×3 LinearAlgebra.QRCompactWYQ{Float64, Matrix{Float64}, Matrix{Float64}}:\n",
       " -0.801784  -0.154303  -0.57735\n",
       " -0.267261  -0.771517   0.57735\n",
       " -0.534522   0.617213   0.57735\n",
       "R factor:\n",
       "3×4 Matrix{Float64}:\n",
       " -3.74166   5.07796  -5.87975      -8.81962\n",
       "  0.0      -0.46291   4.6291        0.46291\n",
       "  0.0       0.0       2.22045e-15  -1.77636e-15"
      ]
     },
     "metadata": {},
     "output_type": "display_data"
    }
   ],
   "source": [
    "# Test for linear independence: use QR's R matrix\n",
    "Q,R = qr([D E])"
   ]
  },
  {
   "cell_type": "code",
   "execution_count": 8,
   "metadata": {},
   "outputs": [
    {
     "data": {
      "text/plain": [
       "2.220446049250313e-15"
      ]
     },
     "metadata": {},
     "output_type": "display_data"
    }
   ],
   "source": [
    "minimum(abs.(diag(R)))\n",
    "# If R has no zero diagonal entries, cols are linearly indep."
   ]
  },
  {
   "cell_type": "code",
   "execution_count": 9,
   "metadata": {},
   "outputs": [
    {
     "data": {
      "text/plain": [
       "LinearAlgebra.QRCompactWY{Float64, Matrix{Float64}, Matrix{Float64}}\n",
       "Q factor:\n",
       "3×3 LinearAlgebra.QRCompactWYQ{Float64, Matrix{Float64}, Matrix{Float64}}:\n",
       " -0.408248  -0.267261  -0.872872\n",
       " -0.408248  -0.801784   0.436436\n",
       " -0.816497   0.534522   0.218218\n",
       "R factor:\n",
       "3×4 Matrix{Float64}:\n",
       " -4.89898  -6.12372  -4.49073  -12.6557\n",
       "  0.0       1.87083  -2.93987    6.68153\n",
       "  0.0       0.0      -5.01901    5.01901"
      ]
     },
     "metadata": {},
     "output_type": "display_data"
    }
   ],
   "source": [
    "Q1, R1 = qr(([B C]))"
   ]
  },
  {
   "cell_type": "code",
   "execution_count": 10,
   "metadata": {},
   "outputs": [
    {
     "ename": "UndefVarError",
     "evalue": "UndefVarError: R2 not defined",
     "output_type": "error",
     "traceback": [
      "UndefVarError: R2 not defined\n",
      "\n",
      "Stacktrace:\n",
      " [1] top-level scope\n",
      "   @ ~/School/Linear-Algebra/MatrixAlg-Notes.ipynb:1"
     ]
    }
   ],
   "source": [
    "minimum(abs.(diag(R2)))\n",
    "# Not zero, so linearly indep"
   ]
  },
  {
   "cell_type": "code",
   "execution_count": 11,
   "metadata": {},
   "outputs": [
    {
     "data": {
      "text/plain": [
       "2.3055512673781017e-16"
      ]
     },
     "metadata": {},
     "output_type": "display_data"
    }
   ],
   "source": [
    "a1 = rand(5)\n",
    "a2 = rand(5)\n",
    "# Linear Dep:\n",
    "Z = [a1 a2 a1+a2]\n",
    "Q2, R2 = qr(Z)\n",
    "minimum(abs.(diag(R2)))\n",
    "# R diag min is zero, so linearly dep"
   ]
  },
  {
   "cell_type": "code",
   "execution_count": 12,
   "metadata": {},
   "outputs": [
    {
     "data": {
      "text/plain": [
       "linear_dep (generic function with 1 method)"
      ]
     },
     "metadata": {},
     "output_type": "display_data"
    }
   ],
   "source": [
    "function linear_dep(aug_matrix)\n",
    "    Q, R = qr(aug_matrix)\n",
    "    return minimum(abs.(diag(R)))\n",
    "end\n"
   ]
  },
  {
   "cell_type": "code",
   "execution_count": 13,
   "metadata": {},
   "outputs": [
    {
     "data": {
      "text/plain": [
       "2.3055512673781017e-16"
      ]
     },
     "metadata": {},
     "output_type": "display_data"
    }
   ],
   "source": [
    "linear_dep(Z)"
   ]
  },
  {
   "cell_type": "code",
   "execution_count": 14,
   "metadata": {},
   "outputs": [
    {
     "data": {
      "text/plain": [
       "aug_solve (generic function with 2 methods)"
      ]
     },
     "metadata": {},
     "output_type": "display_data"
    }
   ],
   "source": [
    "\n",
    "struct DiagonalRowIndexAndConstantValue\n",
    "    row::Integer\n",
    "    value::Float64\n",
    "end\n",
    "function aug_solve(aug_matrix::AbstractMatrix, tol=10E-6)\n",
    "    # deprecated - use LA.jl\n",
    "    Q, R = qr(aug_matrix)\n",
    "    lin_dep = minimum(abs.(diag(R)))\n",
    "    i = 1\n",
    "    min_constants = 0\n",
    "    rows = Integer(size(aug_matrix)[1])\n",
    "\n",
    "    function r_diagonal_value(R::Matrix, index::Integer)::Float64\n",
    "        return abs(R[index, index])\n",
    "    end\n",
    "\n",
    "    diagonal = [DiagonalRowIndexAndConstantValue(row, r_diagonal_value(R, row)) for row in 1:rows]\n",
    "    sort!(diagonal, by=x->x.value)\n",
    "    minimums_row = first(diagonal).row\n",
    "    lin_dep = first(diagonal).value\n",
    "    r_minimums_constant = abs(R[minimums_row, end])\n",
    "\n",
    "\n",
    "    if lin_dep < tol\n",
    "        if r_minimums_constant > tol\n",
    "            throw(\"Inconsistent system! No solutions!\")\n",
    "        else\n",
    "            throw(\"Dependent system! Infinite solutions!\")\n",
    "        end\n",
    "    end\n",
    "    return aug_matrix[:, 1:end-1] \\ aug_matrix[:,end]\n",
    "\n",
    "end"
   ]
  },
  {
   "cell_type": "code",
   "execution_count": 15,
   "metadata": {},
   "outputs": [
    {
     "data": {
      "text/plain": [
       "3-element Vector{Float64}:\n",
       "  1.0\n",
       "  2.0\n",
       " -1.0"
      ]
     },
     "metadata": {},
     "output_type": "display_data"
    }
   ],
   "source": [
    "aug_solve([B C])"
   ]
  },
  {
   "cell_type": "code",
   "execution_count": 16,
   "metadata": {},
   "outputs": [
    {
     "ename": "String",
     "evalue": "\"Dependent system! Infinite solutions!\"",
     "output_type": "error",
     "traceback": [
      "\"Dependent system! Infinite solutions!\"\n",
      "\n",
      "Stacktrace:\n",
      " [1] aug_solve(aug_matrix::Matrix{Int64}, tol::Float64)\n",
      "   @ Main ~/School/Linear-Algebra/MatrixAlg-Notes.ipynb:28\n",
      " [2] aug_solve(aug_matrix::Matrix{Int64})\n",
      "   @ Main ~/School/Linear-Algebra/MatrixAlg-Notes.ipynb:7\n",
      " [3] top-level scope\n",
      "   @ ~/School/Linear-Algebra/MatrixAlg-Notes.ipynb:2"
     ]
    }
   ],
   "source": [
    "# Dep Sys\n",
    "aug_solve([D E])"
   ]
  },
  {
   "cell_type": "code",
   "execution_count": 17,
   "metadata": {},
   "outputs": [
    {
     "ename": "String",
     "evalue": "\"Inconsistent system! No solutions!\"",
     "output_type": "error",
     "traceback": [
      "\"Inconsistent system! No solutions!\"\n",
      "\n",
      "Stacktrace:\n",
      " [1] aug_solve(aug_matrix::Matrix{Int64}, tol::Float64)\n",
      "   @ Main ~/School/Linear-Algebra/MatrixAlg-Notes.ipynb:26\n",
      " [2] aug_solve(aug_matrix::Matrix{Int64})\n",
      "   @ Main ~/School/Linear-Algebra/MatrixAlg-Notes.ipynb:7\n",
      " [3] top-level scope\n",
      "   @ ~/School/Linear-Algebra/MatrixAlg-Notes.ipynb:11"
     ]
    }
   ],
   "source": [
    "# Inconsistent System\n",
    "F = [\n",
    "    1 -1 -2;\n",
    "    2 -3 6;\n",
    "    3 -4 4;\n",
    "]\n",
    "\n",
    "G = [ 2 5 12]'\n",
    "\n",
    "\n",
    "aug_solve([F G])\n",
    "\n",
    "\n"
   ]
  },
  {
   "cell_type": "code",
   "execution_count": 18,
   "metadata": {},
   "outputs": [
    {
     "ename": "String",
     "evalue": "\"Inconsistent system! No solutions!\"",
     "output_type": "error",
     "traceback": [
      "\"Inconsistent system! No solutions!\"\n",
      "\n",
      "Stacktrace:\n",
      " [1] aug_solve(aug_matrix::Matrix{Int64}, tol::Float64)\n",
      "   @ Main ~/School/Linear-Algebra/MatrixAlg-Notes.ipynb:26\n",
      " [2] aug_solve(aug_matrix::Matrix{Int64})\n",
      "   @ Main ~/School/Linear-Algebra/MatrixAlg-Notes.ipynb:7\n",
      " [3] top-level scope\n",
      "   @ ~/School/Linear-Algebra/MatrixAlg-Notes.ipynb:11"
     ]
    }
   ],
   "source": [
    "# Determine Type:\n",
    "# Inconsistent\n",
    "H = [\n",
    "    5 12 1;\n",
    "    2 5 2;\n",
    "    1 2 -3;\n",
    "]\n",
    "\n",
    "I = [10 -1 5]'\n",
    "\n",
    "aug_solve([H I])"
   ]
  },
  {
   "cell_type": "code",
   "execution_count": 19,
   "metadata": {},
   "outputs": [
    {
     "ename": "String",
     "evalue": "\"Dependent system! Infinite solutions!\"",
     "output_type": "error",
     "traceback": [
      "\"Dependent system! Infinite solutions!\"\n",
      "\n",
      "Stacktrace:\n",
      " [1] aug_solve(aug_matrix::Matrix{Int64}, tol::Float64)\n",
      "   @ Main ~/School/Linear-Algebra/MatrixAlg-Notes.ipynb:28\n",
      " [2] aug_solve(aug_matrix::Matrix{Int64})\n",
      "   @ Main ~/School/Linear-Algebra/MatrixAlg-Notes.ipynb:7\n",
      " [3] top-level scope\n",
      "   @ ~/School/Linear-Algebra/MatrixAlg-Notes.ipynb:11"
     ]
    }
   ],
   "source": [
    "# Det Type:\n",
    "# Dep\n",
    "J = [\n",
    "    5 8 -6;\n",
    "    3 4 -2;\n",
    "    1 2 -2;\n",
    "]\n",
    "\n",
    "K = [14 8 3]'\n",
    "\n",
    "aug_solve([J K])"
   ]
  },
  {
   "cell_type": "markdown",
   "metadata": {},
   "source": [
    "# Inverses\n"
   ]
  },
  {
   "cell_type": "markdown",
   "metadata": {},
   "source": [
    "## Not all matrices have inverses\n",
    "\n",
    "## Only inverses of square matrices"
   ]
  },
  {
   "cell_type": "code",
   "execution_count": 20,
   "metadata": {},
   "outputs": [],
   "source": [
    "# inv([a b; c d] = A^-1 = (1/(ad-bc))*[d -b; -c a]"
   ]
  },
  {
   "cell_type": "code",
   "execution_count": 21,
   "metadata": {},
   "outputs": [
    {
     "data": {
      "text/plain": [
       "2×2 Matrix{Rational{Int64}}:\n",
       " 2//7  -3//7\n",
       " 1//7   2//7"
      ]
     },
     "metadata": {},
     "output_type": "display_data"
    }
   ],
   "source": [
    "inv([2//1 3//1; -1//1 2//1])"
   ]
  },
  {
   "cell_type": "code",
   "execution_count": 22,
   "metadata": {},
   "outputs": [
    {
     "data": {
      "text/plain": [
       "2×2 Matrix{Float64}:\n",
       " 0.285714  -0.428571\n",
       " 0.142857   0.285714"
      ]
     },
     "metadata": {},
     "output_type": "display_data"
    }
   ],
   "source": [
    "(1/(2*2 - (3 * -1))) * [2 -3; 1 2]"
   ]
  },
  {
   "cell_type": "code",
   "execution_count": 23,
   "metadata": {},
   "outputs": [
    {
     "data": {
      "text/plain": [
       "2×2 Matrix{Float64}:\n",
       " 1.0  0.5\n",
       " 2.0  1.5"
      ]
     },
     "metadata": {},
     "output_type": "display_data"
    }
   ],
   "source": [
    "M = [3 -1 ; -4 2]\n",
    "inv(M)"
   ]
  },
  {
   "cell_type": "code",
   "execution_count": 24,
   "metadata": {},
   "outputs": [
    {
     "data": {
      "text/plain": [
       "cofactor (generic function with 2 methods)"
      ]
     },
     "metadata": {},
     "output_type": "display_data"
    }
   ],
   "source": [
    "function cofactor(A::AbstractMatrix, T = Float64)\n",
    "    # deprecated - use LA.jl\n",
    "    ax = axes(A)\n",
    "    out = similar(A, T, ax)\n",
    "    for col in ax[1]\n",
    "        for row in ax[2]\n",
    "            out[col, row] = (-1)^(col + row) * det(A[Not(col), Not(row)])\n",
    "        end\n",
    "    end\n",
    "    return out\n",
    "end"
   ]
  },
  {
   "cell_type": "code",
   "execution_count": 25,
   "metadata": {},
   "outputs": [
    {
     "data": {
      "text/plain": [
       "adjugate (generic function with 1 method)"
      ]
     },
     "metadata": {},
     "output_type": "display_data"
    }
   ],
   "source": [
    "function adjugate(M::AbstractMatrix)\n",
    "    return transpose(cofactor(M))\n",
    "end"
   ]
  },
  {
   "cell_type": "code",
   "execution_count": 26,
   "metadata": {},
   "outputs": [
    {
     "data": {
      "text/plain": [
       "2×2 Matrix{Float64}:\n",
       " 1.0  0.5\n",
       " 2.0  1.5"
      ]
     },
     "metadata": {},
     "output_type": "display_data"
    }
   ],
   "source": [
    "(1/det(M))*adjugate(M)"
   ]
  },
  {
   "cell_type": "code",
   "execution_count": 27,
   "metadata": {},
   "outputs": [
    {
     "data": {
      "text/plain": [
       "3×3 Matrix{Float64}:\n",
       " 1.0  -1.11022e-16  1.0\n",
       " 1.0   1.0          2.0\n",
       " 3.0   2.0          6.0"
      ]
     },
     "metadata": {},
     "output_type": "display_data"
    }
   ],
   "source": [
    "N = [\n",
    "    2 2 -1;\n",
    "    0 3 -1;\n",
    "    -1 -2 1\n",
    "]\n",
    "\n",
    "inv(N)"
   ]
  },
  {
   "cell_type": "code",
   "execution_count": 28,
   "metadata": {},
   "outputs": [
    {
     "data": {
      "text/plain": [
       "3×3 Matrix{Rational{Int64}}:\n",
       " 1//1  0//1  1//1\n",
       " 1//1  1//1  2//1\n",
       " 3//1  2//1  6//1"
      ]
     },
     "metadata": {},
     "output_type": "display_data"
    }
   ],
   "source": [
    "inv(Rational.(N))"
   ]
  },
  {
   "cell_type": "code",
   "execution_count": 29,
   "metadata": {},
   "outputs": [
    {
     "data": {
      "text/plain": [
       "3×3 Matrix{Float64}:\n",
       " 1.0  -0.0  1.0\n",
       " 1.0   1.0  2.0\n",
       " 3.0   2.0  6.0"
      ]
     },
     "metadata": {},
     "output_type": "display_data"
    }
   ],
   "source": [
    "(1/det(N))*adjugate(N)"
   ]
  },
  {
   "cell_type": "markdown",
   "metadata": {},
   "source": []
  },
  {
   "cell_type": "markdown",
   "metadata": {},
   "source": [
    "# Solving Systems"
   ]
  },
  {
   "cell_type": "code",
   "execution_count": 30,
   "metadata": {},
   "outputs": [
    {
     "data": {
      "text/plain": [
       "2×1 Matrix{Rational{Int64}}:\n",
       "  1//5\n",
       " 16//5"
      ]
     },
     "metadata": {},
     "output_type": "display_data"
    }
   ],
   "source": [
    "O = [3 2; -1 1]\n",
    "\n",
    "P = [7 3]'\n",
    "\n",
    "Rational.(O) \\ P"
   ]
  },
  {
   "cell_type": "code",
   "execution_count": 31,
   "metadata": {},
   "outputs": [
    {
     "data": {
      "text/plain": [
       "2×1 Matrix{Rational{Int64}}:\n",
       "  1//5\n",
       " 16//5"
      ]
     },
     "metadata": {},
     "output_type": "display_data"
    }
   ],
   "source": [
    "# Ax = B\n",
    "# A^-1*A*X = A^-1*B\n",
    "inv(Rational.(O))*P"
   ]
  },
  {
   "cell_type": "code",
   "execution_count": 32,
   "metadata": {},
   "outputs": [
    {
     "data": {
      "text/plain": [
       "3-element Vector{Float64}:\n",
       "  1.0\n",
       "  2.0\n",
       " -1.0"
      ]
     },
     "metadata": {},
     "output_type": "display_data"
    }
   ],
   "source": [
    "Q = [\n",
    "    2 6 6;\n",
    "    2 7 6;\n",
    "    2 7 7\n",
    "]\n",
    "\n",
    "R = [\n",
    "    8;10;9\n",
    "]\n",
    "\n",
    "aug_solve([Q R])"
   ]
  },
  {
   "cell_type": "code",
   "execution_count": 33,
   "metadata": {},
   "outputs": [
    {
     "data": {
      "text/plain": [
       "3-element Vector{Float64}:\n",
       "  1.0\n",
       "  2.0\n",
       " -1.0"
      ]
     },
     "metadata": {},
     "output_type": "display_data"
    }
   ],
   "source": [
    "inv(Q)*R"
   ]
  },
  {
   "cell_type": "code",
   "execution_count": 34,
   "metadata": {},
   "outputs": [
    {
     "data": {
      "text/plain": [
       "3-element Vector{Rational{Int64}}:\n",
       "  2//1\n",
       " -1//1\n",
       "  5//1"
      ]
     },
     "metadata": {},
     "output_type": "display_data"
    }
   ],
   "source": [
    "S = [\n",
    "    1 -1 1;\n",
    "    0 2 -1;\n",
    "    2 3 0;\n",
    "]\n",
    "\n",
    "T = [8 -7 1]'\n",
    "\n",
    "aug_solve(Rational.([S T]))"
   ]
  },
  {
   "cell_type": "code",
   "execution_count": 35,
   "metadata": {},
   "outputs": [
    {
     "data": {
      "text/plain": [
       "3×1 Matrix{Rational{Int64}}:\n",
       "  2//1\n",
       " -1//1\n",
       "  5//1"
      ]
     },
     "metadata": {},
     "output_type": "display_data"
    }
   ],
   "source": [
    "inv(Rational.(S))*T"
   ]
  },
  {
   "cell_type": "code",
   "execution_count": 36,
   "metadata": {},
   "outputs": [
    {
     "data": {
      "text/plain": [
       "3-element Vector{Rational{Int64}}:\n",
       " -2//1\n",
       " -3//1\n",
       "  2//1"
      ]
     },
     "metadata": {},
     "output_type": "display_data"
    }
   ],
   "source": [
    "U = [\n",
    "    1 2 5;\n",
    "    2 3 8;\n",
    "    -1 1 2\n",
    "]\n",
    "\n",
    "V = [2 3 3]'\n",
    "\n",
    "aug_solve(Rational.([U V]))"
   ]
  },
  {
   "cell_type": "code",
   "execution_count": 37,
   "metadata": {},
   "outputs": [
    {
     "data": {
      "text/plain": [
       "3×3 Matrix{Rational{Int64}}:\n",
       "  2//1  -1//1  -1//1\n",
       " 12//1  -7//1  -2//1\n",
       " -5//1   3//1   1//1"
      ]
     },
     "metadata": {},
     "output_type": "display_data"
    }
   ],
   "source": [
    "W = inv(Rational.(U))"
   ]
  },
  {
   "cell_type": "code",
   "execution_count": 38,
   "metadata": {},
   "outputs": [
    {
     "data": {
      "text/plain": [
       "3×1 Matrix{Rational{Int64}}:\n",
       " -2//1\n",
       " -3//1\n",
       "  2//1"
      ]
     },
     "metadata": {},
     "output_type": "display_data"
    }
   ],
   "source": [
    "W * V"
   ]
  },
  {
   "cell_type": "markdown",
   "metadata": {},
   "source": [
    "# Determinants"
   ]
  },
  {
   "cell_type": "code",
   "execution_count": 39,
   "metadata": {},
   "outputs": [
    {
     "data": {
      "text/plain": [
       "72.0"
      ]
     },
     "metadata": {},
     "output_type": "display_data"
    }
   ],
   "source": [
    "X = [\n",
    "    3 0 0;\n",
    "    2 1 -5;\n",
    "    2 5 -1\n",
    "]\n",
    "\n",
    "det(X)"
   ]
  },
  {
   "cell_type": "code",
   "execution_count": 40,
   "metadata": {},
   "outputs": [
    {
     "data": {
      "text/plain": [
       "-75.0"
      ]
     },
     "metadata": {},
     "output_type": "display_data"
    }
   ],
   "source": [
    "Y = [\n",
    "    3 1 0;\n",
    "    -3 4 0;\n",
    "    -1 3 -5\n",
    "]\n",
    "\n",
    "det(Y)"
   ]
  },
  {
   "cell_type": "code",
   "execution_count": 41,
   "metadata": {},
   "outputs": [
    {
     "data": {
      "text/plain": [
       "0.0"
      ]
     },
     "metadata": {},
     "output_type": "display_data"
    }
   ],
   "source": [
    "Z = [\n",
    "    1 1 1;\n",
    "    2 2 2;\n",
    "    -3 4 -5;\n",
    "]\n",
    "\n",
    "det(Z)"
   ]
  },
  {
   "cell_type": "code",
   "execution_count": 42,
   "metadata": {},
   "outputs": [
    {
     "data": {
      "text/plain": [
       "-20.0"
      ]
     },
     "metadata": {},
     "output_type": "display_data"
    }
   ],
   "source": [
    "AA = [\n",
    "    1 2 3;\n",
    "    2 2 -3;\n",
    "    3 2 1\n",
    "]\n",
    "\n",
    "det(AA)"
   ]
  },
  {
   "cell_type": "markdown",
   "metadata": {},
   "source": [
    "# Cramer's Rule"
   ]
  },
  {
   "cell_type": "markdown",
   "metadata": {},
   "source": [
    "### X = D_x / D, Y = D_y / D"
   ]
  },
  {
   "cell_type": "code",
   "execution_count": 43,
   "metadata": {},
   "outputs": [],
   "source": [
    "# 3 Var System:\n",
    "\n",
    "# X = D_x/D, Y = D_y / D, Z = D_z / D"
   ]
  },
  {
   "cell_type": "code",
   "execution_count": 44,
   "metadata": {},
   "outputs": [
    {
     "ename": "TypeError",
     "evalue": "TypeError: in Type, in parameter, expected Type, got a value of type Adjoint{Int64, Matrix{Int64}}",
     "output_type": "error",
     "traceback": [
      "TypeError: in Type, in parameter, expected Type, got a value of type Adjoint{Int64, Matrix{Int64}}\n",
      "\n",
      "Stacktrace:\n",
      " [1] top-level scope\n",
      "   @ ~/School/Linear-Algebra/MatrixAlg-Notes.ipynb:1"
     ]
    }
   ],
   "source": [
    "function cramers(aug_m::AbstractMatrix{T})\n",
    "    # deprecated - use LA.jl\n",
    "    M = copy(aug_m[:, 1:end-1])\n",
    "    xyz = copy(aug_m[:, end])\n",
    "    D = det(M)\n",
    "    println(\"D: $(D)\")\n",
    "    i = 1\n",
    "    cols = size(M)[2]\n",
    "    results = Array{T}(undef, cols)\n",
    "    while i <= cols\n",
    "        D_ = copy(M)\n",
    "        D_[:, i] .= xyz\n",
    "        # println(\"D_$(i): $(D_)\")\n",
    "        _det = det(D_)\n",
    "        println(\"D_$(i): det($(D_)): $(_det)\")\n",
    "        results[i] = _det\n",
    "        i += 1\n",
    "    end\n",
    "    answer = Array{T}(undef, cols)\n",
    "    for j=1:cols\n",
    "        answer[j] = results[j]/D\n",
    "    end\n",
    "    _xyz = [x for x in answer]\n",
    "    return hcat(_xyz)\n",
    "end"
   ]
  },
  {
   "cell_type": "code",
   "execution_count": 45,
   "metadata": {},
   "outputs": [
    {
     "ename": "MethodError",
     "evalue": "MethodError: no method matching cramers(::Matrix{Int64})",
     "output_type": "error",
     "traceback": [
      "MethodError: no method matching cramers(::Matrix{Int64})\n",
      "\n",
      "Stacktrace:\n",
      " [1] top-level scope\n",
      "   @ ~/School/Linear-Algebra/MatrixAlg-Notes.ipynb:8"
     ]
    }
   ],
   "source": [
    "BB = [\n",
    "    1 2;\n",
    "    3 -7;\n",
    "]\n",
    "\n",
    "CC = [ 19 -8]'\n",
    "\n",
    "cramers([BB CC])"
   ]
  },
  {
   "cell_type": "code",
   "execution_count": 46,
   "metadata": {},
   "outputs": [
    {
     "data": {
      "text/plain": [
       "2-element Vector{Float64}:\n",
       " 9.000000000000002\n",
       " 5.000000000000001"
      ]
     },
     "metadata": {},
     "output_type": "display_data"
    }
   ],
   "source": [
    "aug_solve([BB CC])"
   ]
  },
  {
   "cell_type": "code",
   "execution_count": 47,
   "metadata": {},
   "outputs": [
    {
     "ename": "MethodError",
     "evalue": "MethodError: no method matching cramers(::Matrix{Rational{Int64}})",
     "output_type": "error",
     "traceback": [
      "MethodError: no method matching cramers(::Matrix{Rational{Int64}})\n",
      "\n",
      "Stacktrace:\n",
      " [1] top-level scope\n",
      "   @ ~/School/Linear-Algebra/MatrixAlg-Notes.ipynb:8"
     ]
    }
   ],
   "source": [
    "DD = [\n",
    "    2 3;\n",
    "    5 -7\n",
    "]\n",
    "\n",
    "EE = [ 7 -3]'\n",
    "\n",
    "cramers(Rational.([DD EE]))"
   ]
  },
  {
   "cell_type": "code",
   "execution_count": 48,
   "metadata": {},
   "outputs": [
    {
     "ename": "MethodError",
     "evalue": "MethodError: no method matching cramers(::Matrix{Int64})",
     "output_type": "error",
     "traceback": [
      "MethodError: no method matching cramers(::Matrix{Int64})\n",
      "\n",
      "Stacktrace:\n",
      " [1] top-level scope\n",
      "   @ ~/School/Linear-Algebra/MatrixAlg-Notes.ipynb:9"
     ]
    }
   ],
   "source": [
    "FF = [\n",
    "    1 1 1;\n",
    "    2 -1 1;\n",
    "    -1 3 -1\n",
    "]\n",
    "\n",
    "GG = [0 -1 -8]'\n",
    "\n",
    "cramers([FF GG])"
   ]
  },
  {
   "cell_type": "code",
   "execution_count": 49,
   "metadata": {},
   "outputs": [
    {
     "data": {
      "text/plain": [
       "3-element Vector{Float64}:\n",
       " -5.0\n",
       " -2.0\n",
       "  7.0"
      ]
     },
     "metadata": {},
     "output_type": "display_data"
    }
   ],
   "source": [
    "aug_solve([FF GG])"
   ]
  },
  {
   "cell_type": "code",
   "execution_count": 50,
   "metadata": {},
   "outputs": [],
   "source": []
  }
 ],
 "metadata": {
  "kernelspec": {
   "display_name": "Julia 1.8.5",
   "language": "julia",
   "name": "julia-1.8"
  },
  "language_info": {
   "file_extension": ".jl",
   "mimetype": "application/julia",
   "name": "julia",
   "version": "1.8.5"
  },
  "orig_nbformat": 4
 },
 "nbformat": 4,
 "nbformat_minor": 2
}
